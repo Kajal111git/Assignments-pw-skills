{
 "cells": [
  {
   "cell_type": "markdown",
   "id": "2cff3dca",
   "metadata": {},
   "source": [
    "1. Explain with an example each when to use a for loop and a while loop."
   ]
  },
  {
   "cell_type": "code",
   "execution_count": 3,
   "id": "c0c9acd3",
   "metadata": {},
   "outputs": [
    {
     "name": "stdout",
     "output_type": "stream",
     "text": [
      "0\n",
      "1\n",
      "2\n",
      "3\n",
      "4\n"
     ]
    }
   ],
   "source": [
    "'''for loop is used to iterate over a sequence'''\n",
    "for i in range(5):\n",
    "    print(i)"
   ]
  },
  {
   "cell_type": "code",
   "execution_count": 4,
   "id": "7371c2c3",
   "metadata": {},
   "outputs": [
    {
     "name": "stdout",
     "output_type": "stream",
     "text": [
      "0\n",
      "1\n",
      "2\n",
      "3\n",
      "4\n"
     ]
    }
   ],
   "source": [
    "'''while loop is used to execute a certain block of code until a condition holds true'''\n",
    "i=0\n",
    "while i <5:\n",
    "    print(i)\n",
    "    i=i+1"
   ]
  },
  {
   "cell_type": "markdown",
   "id": "d92af3f9",
   "metadata": {},
   "source": [
    "2.Write a python program to print the sum and product of the first 10 natural numbers using for\n",
    "and while loop."
   ]
  },
  {
   "cell_type": "code",
   "execution_count": 5,
   "id": "21bb04db",
   "metadata": {},
   "outputs": [
    {
     "name": "stdout",
     "output_type": "stream",
     "text": [
      "the sum of first 10 natural numbers is  55\n",
      "the product of first 10 natural numbers is  3628800\n"
     ]
    }
   ],
   "source": [
    "'''the sum and product of first 10 natural numbers using for loop'''\n",
    "sum=0\n",
    "product=1\n",
    "for i in range(1,11):\n",
    "    sum=sum+i\n",
    "    product=product*i\n",
    "print('the sum of first 10 natural numbers is ',sum)\n",
    "print('the product of first 10 natural numbers is ',product)"
   ]
  },
  {
   "cell_type": "code",
   "execution_count": 6,
   "id": "a185d190",
   "metadata": {},
   "outputs": [
    {
     "name": "stdout",
     "output_type": "stream",
     "text": [
      "sum =  55\n",
      "product =  3628800\n"
     ]
    }
   ],
   "source": [
    "'''the sum and product of first 10 natural numbers using while loop'''\n",
    "sum=0\n",
    "product=1\n",
    "i=1\n",
    "while i <=10:\n",
    "    sum=sum+i\n",
    "    product = product*i\n",
    "    i=i+1\n",
    "print('sum = ',sum)\n",
    "print('product = ',product)"
   ]
  },
  {
   "cell_type": "markdown",
   "id": "b276a574",
   "metadata": {},
   "source": [
    "3.Create a python program to compute the electricity bill for a household.\n",
    "\n",
    "The per-unit charges in rupees are as follows: For the first 100 units, the user will be charged Rs. 4.5 per\n",
    "unit, for the next 100 units, the user will be charged Rs. 6 per unit, and for the next 100 units, the user will\n",
    "be charged Rs. 10 per unit, After 300 units and above the user will be charged Rs. 20 per unit."
   ]
  },
  {
   "cell_type": "code",
   "execution_count": 7,
   "id": "1c13250b",
   "metadata": {},
   "outputs": [
    {
     "name": "stdout",
     "output_type": "stream",
     "text": [
      "enter units310\n",
      "2250.0\n"
     ]
    }
   ],
   "source": [
    "'''Python program to calculate electricity bill'''\n",
    "unit=int(input('enter units'))\n",
    "if unit>0 and unit <=100:\n",
    "    bill=unit*4.5\n",
    "elif unit>100 and unit<=200:\n",
    "    bill= (100*4.5) + (unit-100)*6\n",
    "elif unit >200 and unit <=300:\n",
    "    bill =(100*4.5)+(200-100)*6+(unit-200)*10\n",
    "else :\n",
    "    bill=(100*4.5)+(200-100)*6+(300-200)*10+(unit-300)*20\n",
    "print(bill)"
   ]
  },
  {
   "cell_type": "markdown",
   "id": "c43b1648",
   "metadata": {},
   "source": [
    "4.Create a list of numbers from 1 to 100. Use for loop and while loop to calculate the cube of each\n",
    "number and if the cube of that number is divisible by 4 or 5 then append that number in a list and print\n",
    "that list."
   ]
  },
  {
   "cell_type": "code",
   "execution_count": 8,
   "id": "8c6790dd",
   "metadata": {},
   "outputs": [
    {
     "name": "stdout",
     "output_type": "stream",
     "text": [
      "[8, 64, 125, 216, 512, 1000, 1728, 2744, 3375, 4096, 5832, 8000, 10648, 13824, 15625, 17576, 21952, 27000, 32768, 39304, 42875, 46656, 54872, 64000, 74088, 85184, 91125, 97336, 110592, 125000, 140608, 157464, 166375, 175616, 195112, 216000, 238328, 262144, 274625, 287496, 314432, 343000, 373248, 405224, 421875, 438976, 474552, 512000, 551368, 592704, 614125, 636056, 681472, 729000, 778688, 830584, 857375, 884736, 941192, 1000000]\n"
     ]
    }
   ],
   "source": [
    "'''List of cubes from 1-100 divisible by 4 or 5'''\n",
    "l1=list(range(1,101))\n",
    "l2=[]\n",
    "for i in l1:\n",
    "    i=i**3\n",
    "    if i%4==0 or i%5==0:\n",
    "        l2.append(i)\n",
    "print(l2)"
   ]
  },
  {
   "cell_type": "markdown",
   "id": "aaa5d6dd",
   "metadata": {},
   "source": [
    "5.Write a program to filter count vowels in the below-given string.\n",
    "string = \"I want to become a data scientist\""
   ]
  },
  {
   "cell_type": "code",
   "execution_count": 9,
   "id": "4f5da33e",
   "metadata": {},
   "outputs": [
    {
     "name": "stdout",
     "output_type": "stream",
     "text": [
      "12\n"
     ]
    }
   ],
   "source": [
    "'''count vowels in the given string'''\n",
    "string='I want to become a data scientist'\n",
    "vowels=['a','e','i','o','u','A','E','I','O','U']\n",
    "count=0\n",
    "for i in string:\n",
    "    for j in vowels:\n",
    "        if j in i:\n",
    "            count+=1\n",
    "print(count)"
   ]
  },
  {
   "cell_type": "code",
   "execution_count": null,
   "id": "dfa72596",
   "metadata": {},
   "outputs": [],
   "source": []
  }
 ],
 "metadata": {
  "kernelspec": {
   "display_name": "Python 3 (ipykernel)",
   "language": "python",
   "name": "python3"
  },
  "language_info": {
   "codemirror_mode": {
    "name": "ipython",
    "version": 3
   },
   "file_extension": ".py",
   "mimetype": "text/x-python",
   "name": "python",
   "nbconvert_exporter": "python",
   "pygments_lexer": "ipython3",
   "version": "3.9.12"
  }
 },
 "nbformat": 4,
 "nbformat_minor": 5
}
