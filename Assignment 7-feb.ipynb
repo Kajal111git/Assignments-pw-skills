{
 "cells": [
  {
   "cell_type": "markdown",
   "id": "baff82b7",
   "metadata": {},
   "source": [
    "Q1. You are writing code for a company. The requirement of the company is that you create a python\n",
    "function that will check whether the password entered by the user is correct or not. The function should\n",
    "take the password as input and return the string “Valid Password” if the entered password follows the\n",
    "below-given password guidelines else it should return “Invalid Password”.\n",
    "Note: 1. The Password should contain at least two uppercase letters and at least two lowercase letters.\n",
    "2. The Password should contain at least a number and three special characters.\n",
    "3. The length of the password should be 10 characters long."
   ]
  },
  {
   "cell_type": "code",
   "execution_count": 1,
   "id": "78c8e41b",
   "metadata": {},
   "outputs": [
    {
     "name": "stdout",
     "output_type": "stream",
     "text": [
      "enter paasword*&fg78JH^$\n",
      "Valid paasword\n"
     ]
    }
   ],
   "source": [
    "def validate_paasword():\n",
    "    a=input('enter paasword')\n",
    "    \n",
    "    import string\n",
    "    sp=string.punctuation\n",
    "    \n",
    "    upper_count=0\n",
    "    lower_count=0\n",
    "    special_count=0\n",
    "    digit_count=0\n",
    "    \n",
    "    for i in a:\n",
    "        if i.isupper():\n",
    "            upper_count+=1\n",
    "        elif i.islower():\n",
    "            lower_count+=1\n",
    "        elif i.isdigit():\n",
    "            digit_count+=1\n",
    "        elif i in sp:\n",
    "            special_count+=1\n",
    "            \n",
    "    #print(upper_count,lower_count,digit_count,special_count)\n",
    "    \n",
    "    if len(a)==10:\n",
    "        True\n",
    "    else:\n",
    "        print('Paasword must be 10 characters long')\n",
    "            \n",
    "    if upper_count>=2:\n",
    "        True          \n",
    "    else:\n",
    "        print('Paasword must contain atleast 2 uppercase characters')\n",
    "\n",
    "    if lower_count>=2:\n",
    "        True         \n",
    "    else:\n",
    "        print('Paasword must contain atleast 2 lowercase characters')\n",
    "        \n",
    "    if digit_count>=1:\n",
    "        True         \n",
    "    else:\n",
    "        print('Paasword must contain a digit')\n",
    "                \n",
    "    if special_count>=3:\n",
    "        True\n",
    "    else:\n",
    "        print('Paasword must contain atleast 3 special characters')\n",
    "        \n",
    "    if len(a) and upper_count and lower_count and digit_count and special_count:\n",
    "        print('Valid paasword')\n",
    "    else:\n",
    "        print('Invalid paasword')\n",
    "        \n",
    "validate_paasword()"
   ]
  },
  {
   "cell_type": "markdown",
   "id": "c31e4173",
   "metadata": {},
   "source": [
    "Q2. Solve the below-given questions using at least one of the following:\n",
    "1. Lambda function\n",
    "2. Filter function\n",
    "3. Zap function\n",
    "4. List Comprehension"
   ]
  },
  {
   "cell_type": "markdown",
   "id": "a1c5db61",
   "metadata": {},
   "source": [
    "1. Check if the string starts with a particular letter"
   ]
  },
  {
   "cell_type": "code",
   "execution_count": 5,
   "id": "e4145300",
   "metadata": {},
   "outputs": [
    {
     "data": {
      "text/plain": [
       "'yes, the string starts with this letter'"
      ]
     },
     "execution_count": 5,
     "metadata": {},
     "output_type": "execute_result"
    }
   ],
   "source": [
    "a=lambda x,y:'yes, the string starts with this letter' if x[0]==y else 'no,the string does not starts with this letter'\n",
    "a('hello','h')"
   ]
  },
  {
   "cell_type": "markdown",
   "id": "2708768b",
   "metadata": {},
   "source": [
    "2. Check if the string is numeric."
   ]
  },
  {
   "cell_type": "code",
   "execution_count": 7,
   "id": "205831ca",
   "metadata": {},
   "outputs": [
    {
     "data": {
      "text/plain": [
       "'yes'"
      ]
     },
     "execution_count": 7,
     "metadata": {},
     "output_type": "execute_result"
    }
   ],
   "source": [
    "a=lambda x:'yes' if x.isalnum else 'no'\n",
    "a('hello')"
   ]
  },
  {
   "cell_type": "markdown",
   "id": "47947f42",
   "metadata": {},
   "source": [
    "3. Sort a list of tuples having fruit names and their quantity. [(\"mango\",99),(\"orange\",80), (\"grapes\", 1000)]"
   ]
  },
  {
   "cell_type": "code",
   "execution_count": 8,
   "id": "5a2cd5bd",
   "metadata": {},
   "outputs": [
    {
     "data": {
      "text/plain": [
       "[('orange', 80), ('mango', 99), ('grapes', 1000)]"
      ]
     },
     "execution_count": 8,
     "metadata": {},
     "output_type": "execute_result"
    }
   ],
   "source": [
    "l=[(\"mango\",99),(\"orange\",80), (\"grapes\", 1000)]\n",
    "l.sort(key=lambda i:i[1])\n",
    "l"
   ]
  },
  {
   "cell_type": "code",
   "execution_count": null,
   "id": "888a06f5",
   "metadata": {},
   "outputs": [],
   "source": [
    "4. Find the squares of numbers from 1 to 10."
   ]
  },
  {
   "cell_type": "code",
   "execution_count": 11,
   "id": "40893460",
   "metadata": {},
   "outputs": [
    {
     "data": {
      "text/plain": [
       "[1, 4, 9, 16, 25, 36, 49, 64, 81, 100]"
      ]
     },
     "execution_count": 11,
     "metadata": {},
     "output_type": "execute_result"
    }
   ],
   "source": [
    "l=[i**2 for i in range(1,11)]\n",
    "l"
   ]
  },
  {
   "cell_type": "code",
   "execution_count": null,
   "id": "80e010ef",
   "metadata": {},
   "outputs": [],
   "source": [
    "5. Find the cube root of numbers from 1 to 10."
   ]
  },
  {
   "cell_type": "code",
   "execution_count": 17,
   "id": "91f90885",
   "metadata": {},
   "outputs": [
    {
     "data": {
      "text/plain": [
       "[1.0,\n",
       " 1.2599210498948732,\n",
       " 1.4422495703074083,\n",
       " 1.5874010519681994,\n",
       " 1.7099759466766968,\n",
       " 1.8171205928321397,\n",
       " 1.912931182772389,\n",
       " 2.0,\n",
       " 2.080083823051904,\n",
       " 2.154434690031884]"
      ]
     },
     "execution_count": 17,
     "metadata": {},
     "output_type": "execute_result"
    }
   ],
   "source": [
    "list(map(lambda a:a**(1/3),range(1,11)))"
   ]
  },
  {
   "cell_type": "markdown",
   "id": "34844e96",
   "metadata": {},
   "source": [
    "6. Check if a given number is even."
   ]
  },
  {
   "cell_type": "code",
   "execution_count": 13,
   "id": "5919503a",
   "metadata": {},
   "outputs": [
    {
     "data": {
      "text/plain": [
       "'not even'"
      ]
     },
     "execution_count": 13,
     "metadata": {},
     "output_type": "execute_result"
    }
   ],
   "source": [
    "a=lambda x:'even' if x%2==0 else 'not even'\n",
    "a(5)"
   ]
  },
  {
   "cell_type": "markdown",
   "id": "9b3b9cd4",
   "metadata": {},
   "source": [
    "7. Filter odd numbers from the given list.\n",
    "[1,2,3,4,5,6,7,8,9,10]"
   ]
  },
  {
   "cell_type": "code",
   "execution_count": 14,
   "id": "e8c2394d",
   "metadata": {},
   "outputs": [
    {
     "data": {
      "text/plain": [
       "[1, 3, 5, 7, 9]"
      ]
     },
     "execution_count": 14,
     "metadata": {},
     "output_type": "execute_result"
    }
   ],
   "source": [
    "l=[1,2,3,4,5,6,7,8,9,10]\n",
    "list(filter (lambda a:a%2!=0,l))"
   ]
  },
  {
   "cell_type": "markdown",
   "id": "8e08ff5a",
   "metadata": {},
   "source": [
    "8. Sort a list of integers into positive and negative integers lists.\n",
    "[1,2,3,4,5,6,-1,-2,-3,-4,-5,0]"
   ]
  },
  {
   "cell_type": "code",
   "execution_count": 16,
   "id": "96695d9e",
   "metadata": {},
   "outputs": [
    {
     "name": "stdout",
     "output_type": "stream",
     "text": [
      "l_pos = [1, 2, 3, 4, 5, 6]\n",
      "l_neg = [-1, -2, -3, -4, -5]\n"
     ]
    }
   ],
   "source": [
    "l=[1,2,3,4,5,6,-1,-2,-3,-4,-5,0]\n",
    "l_pos=list(filter(lambda a:a>0,l))\n",
    "l_neg=list(filter(lambda a:a<0,l))\n",
    "print('l_pos =', l_pos)\n",
    "print('l_neg =', l_neg)"
   ]
  },
  {
   "cell_type": "code",
   "execution_count": null,
   "id": "cfc63202",
   "metadata": {},
   "outputs": [],
   "source": []
  }
 ],
 "metadata": {
  "kernelspec": {
   "display_name": "Python 3 (ipykernel)",
   "language": "python",
   "name": "python3"
  },
  "language_info": {
   "codemirror_mode": {
    "name": "ipython",
    "version": 3
   },
   "file_extension": ".py",
   "mimetype": "text/x-python",
   "name": "python",
   "nbconvert_exporter": "python",
   "pygments_lexer": "ipython3",
   "version": "3.9.12"
  }
 },
 "nbformat": 4,
 "nbformat_minor": 5
}
