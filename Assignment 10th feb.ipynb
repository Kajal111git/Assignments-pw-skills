{
 "cells": [
  {
   "cell_type": "markdown",
   "id": "5cded43b",
   "metadata": {},
   "source": [
    "Q1. Which function is used to open a file? What are the different modes of opening a file? Explain each mode\n",
    "of file opening."
   ]
  },
  {
   "cell_type": "code",
   "execution_count": null,
   "id": "133500df",
   "metadata": {},
   "outputs": [],
   "source": [
    "open() function is used to open a file.\n",
    "There are different modes of opening a file like 'r','w','x','a','b' where each has a specific purpose.\n",
    "r - 'r' is used to read from an existing file.\n",
    "w - 'w' is used to write to a file, if the file does not exist then a new file is created to write to it.\n",
    "x - 'x' is used to create a new file for writing.\n",
    "a - 'a' is used to append to the end of a file.\n",
    "b - 'b' is used to do read/write operations to a binary file as 'rb'/'wb'."
   ]
  },
  {
   "cell_type": "markdown",
   "id": "1626905c",
   "metadata": {},
   "source": [
    "Q2. Why close() function is used? Why is it important to close a file?"
   ]
  },
  {
   "cell_type": "code",
   "execution_count": null,
   "id": "52f0536f",
   "metadata": {},
   "outputs": [],
   "source": [
    "close() function is used to close a file after opening the file and performing any opearation on it. \n",
    "It is important to close the file as when we open a file, there are some resoureces that gets allocated\n",
    "and will not be released leading to memory leak and exhaustion of resource.\n",
    "There is also a chance of files to get corrupt when we dont close a file as the data will not be able to get flushed \n",
    "to the file properly before closing the program."
   ]
  },
  {
   "cell_type": "code",
   "execution_count": null,
   "id": "26dc8df2",
   "metadata": {},
   "outputs": [],
   "source": [
    "Q3. Write a python program to create a text file. Write ‘I want to become a Data Scientist’ in that file. Then\n",
    "close the file. Open this file and read the content of the file."
   ]
  },
  {
   "cell_type": "code",
   "execution_count": 8,
   "id": "a18c43ad",
   "metadata": {},
   "outputs": [
    {
     "data": {
      "text/plain": [
       "'I want to become a Data Scientist'"
      ]
     },
     "execution_count": 8,
     "metadata": {},
     "output_type": "execute_result"
    }
   ],
   "source": [
    "#creating a file\n",
    "file= open('pw.txt','w')\n",
    "file.write('I want to become a Data Scientist')\n",
    "file.close()\n",
    "#opening a file to read\n",
    "file=open('pw.txt','r')\n",
    "file.read()"
   ]
  },
  {
   "cell_type": "markdown",
   "id": "9348f817",
   "metadata": {},
   "source": [
    "Q4. Explain the following with python code: read(), readline() and readlines()."
   ]
  },
  {
   "cell_type": "code",
   "execution_count": 32,
   "id": "fae03c10",
   "metadata": {},
   "outputs": [
    {
     "name": "stdout",
     "output_type": "stream",
     "text": [
      "I want to become a Data Scientist.\n",
      "I am working hard to become a DS.\n",
      "I belive in myself to make my dream come true.\n",
      "I want to become a Data Scientist.\n",
      "\n",
      "['I want to become a Data Scientist.\\n', 'I am working hard to become a DS.\\n', 'I belive in myself to make my dream come true.']\n"
     ]
    }
   ],
   "source": [
    "#creating a file\n",
    "file= open('pw.txt','w')\n",
    "file.writelines('I want to become a Data Scientist.\\n''I am working hard to become a DS.\\n''I belive in myself to make my dream come true.')\n",
    "file.close()\n",
    "\n",
    "#read() returns everything from the file as one string\n",
    "file=open('pw.txt','r')\n",
    "print(file.read())\n",
    "file.close()\n",
    "\n",
    "#readline() returns one line at a time from the file\n",
    "file=open('pw.txt','r')\n",
    "print(file.readline())\n",
    "file.close()\n",
    "\n",
    "#readlines() return all the lines from the file as a list of strings\n",
    "file=open('pw.txt','r')\n",
    "print(file.readlines())\n",
    "file.close()"
   ]
  },
  {
   "cell_type": "markdown",
   "id": "62babca7",
   "metadata": {},
   "source": [
    "Q5. Explain why with statement is used with open(). What is the advantage of using with statement and\n",
    "open() together?"
   ]
  },
  {
   "cell_type": "code",
   "execution_count": 36,
   "id": "a33a50f0",
   "metadata": {},
   "outputs": [
    {
     "name": "stdout",
     "output_type": "stream",
     "text": [
      "I want to become a Data Scientist.\n",
      "I am working hard to become a DS.\n",
      "I belive in myself to make my dream come true.\n"
     ]
    },
    {
     "data": {
      "text/plain": [
       "'there are various advantages of using with statement as:\\n1. Ensuring all the resources are freed up by closing the file after it exits the indented block of code\\n2. Even if an exception occurs, it closes the file properly leaving no space to leave a file opened due to unhandled exception.\\n3. It makes the code look clean and we dont need to close the file explicitly.'"
      ]
     },
     "execution_count": 36,
     "metadata": {},
     "output_type": "execute_result"
    }
   ],
   "source": [
    "'''with statement with open is used to close the file once it gets out the with block'''\n",
    "with open('pw.txt','r') as file:\n",
    "    f=file.read()\n",
    "    print(f)\n",
    "    \n",
    "'''there are various advantages of using with statement as:\n",
    "1. Ensuring all the resources are freed up by closing the file after it exits the indented block of code\n",
    "2. Even if an exception occurs, it closes the file properly leaving no space to leave a file opened due to unhandled exception.\n",
    "3. It makes the code look clean and we dont need to close the file explicitly.'''"
   ]
  },
  {
   "cell_type": "markdown",
   "id": "6917b546",
   "metadata": {},
   "source": [
    "Q6. Explain the write() and writelines() functions. Give a suitable example."
   ]
  },
  {
   "cell_type": "code",
   "execution_count": 34,
   "id": "0de217b9",
   "metadata": {},
   "outputs": [
    {
     "name": "stdout",
     "output_type": "stream",
     "text": [
      "hello\n",
      "this is the first line\n",
      "i have a cat.\n",
      "her name is Annie.\n",
      "i adore her.\n"
     ]
    }
   ],
   "source": [
    "#write() is used to write a string to a file\n",
    "file=open('w1.txt','w')\n",
    "file.write('hello\\n')\n",
    "file.write('this is the first line')\n",
    "file.close()\n",
    "\n",
    "#while writelines() is used to write a sequence of strings as an iterable to the file\n",
    "cat=['i have a cat.\\n',\n",
    "    'her name is Annie.\\n',\n",
    "    'i adore her.']\n",
    "\n",
    "file=open('w2.txt','w')\n",
    "file.writelines(cat)\n",
    "file.close()\n",
    "\n",
    "file=open('w1.txt','r')\n",
    "print(file.read())\n",
    "file.close()\n",
    "\n",
    "file=open('w2.txt','r')\n",
    "print(file.read())\n",
    "file.close()"
   ]
  },
  {
   "cell_type": "code",
   "execution_count": null,
   "id": "2e07e2a0",
   "metadata": {},
   "outputs": [],
   "source": []
  }
 ],
 "metadata": {
  "kernelspec": {
   "display_name": "Python 3 (ipykernel)",
   "language": "python",
   "name": "python3"
  },
  "language_info": {
   "codemirror_mode": {
    "name": "ipython",
    "version": 3
   },
   "file_extension": ".py",
   "mimetype": "text/x-python",
   "name": "python",
   "nbconvert_exporter": "python",
   "pygments_lexer": "ipython3",
   "version": "3.9.12"
  }
 },
 "nbformat": 4,
 "nbformat_minor": 5
}
