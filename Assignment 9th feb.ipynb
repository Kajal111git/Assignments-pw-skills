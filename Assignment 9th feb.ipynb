{
 "cells": [
  {
   "cell_type": "markdown",
   "id": "3b8044f9",
   "metadata": {},
   "source": [
    "Q1, Create a vehicle class with an init method having instance variables as name_of_vehicle, max_speed\n",
    "and average_of_vehicle."
   ]
  },
  {
   "cell_type": "code",
   "execution_count": 21,
   "id": "95c1635e",
   "metadata": {},
   "outputs": [
    {
     "name": "stdout",
     "output_type": "stream",
     "text": [
      "156\n",
      "200\n",
      "toyota\n"
     ]
    }
   ],
   "source": [
    "class vehicle:\n",
    "    def __init__ (self,name_of_vehicle_, max_speed, average_of_vehicle):\n",
    "        self.name_of_vehicle_= name_of_vehicle_\n",
    "        self.max_speed=max_speed\n",
    "        self.average_of_vehicle=average_of_vehicle\n",
    "        \n",
    "ob1=vehicle('toyota',200,156)\n",
    "print(ob1.average_of_vehicle)\n",
    "print(ob1.max_speed)\n",
    "print(ob1.name_of_vehicle_)"
   ]
  },
  {
   "cell_type": "markdown",
   "id": "cd1181c0",
   "metadata": {},
   "source": [
    "Q2. Create a child class car from the vehicle class created in Que 1, which will inherit the vehicle class. Create a method named seating_capacity which takes capacity as an argument and returns the name of the vehicle and its seating capacity."
   ]
  },
  {
   "cell_type": "code",
   "execution_count": 22,
   "id": "ec943e8b",
   "metadata": {},
   "outputs": [
    {
     "name": "stdout",
     "output_type": "stream",
     "text": [
      "The Hyundai has the seating capacity of 5 seats.\n"
     ]
    }
   ],
   "source": [
    "class vehicle:\n",
    "    def __init__ (self,name_of_vehicle_, max_speed, average_of_vehicle):\n",
    "        self.name_of_vehicle_= name_of_vehicle_\n",
    "        self.max_speed=max_speed\n",
    "        self.average_of_vehicle=average_of_vehicle\n",
    "        \n",
    "\n",
    "class car(vehicle):\n",
    "    def __init__(self,name_of_vehicle_,max_speed,average_of_vehicle,number_of_seats):\n",
    "        super().__init__(name_of_vehicle_,max_speed,average_of_vehicle)\n",
    "        self.number_of_seats=number_of_seats\n",
    "    def seating_capacity(self):\n",
    "        print('The',self.name_of_vehicle_, 'has the seating capacity of', self.number_of_seats,'seats.')\n",
    "\n",
    "ob2=car('Hyundai',198,208,5)\n",
    "ob2.seating_capacity()"
   ]
  },
  {
   "cell_type": "markdown",
   "id": "9b1c637b",
   "metadata": {},
   "source": [
    "Q3. What is multiple inheritance? Write a python code to demonstrate multiple inheritance."
   ]
  },
  {
   "cell_type": "code",
   "execution_count": 23,
   "id": "e070dfad",
   "metadata": {},
   "outputs": [
    {
     "name": "stdout",
     "output_type": "stream",
     "text": [
      "Toyota\n",
      "petrol\n",
      "name :  Toyota , max speed :  200 , avg speed :  156\n",
      "airbags :  front , fuel :  petrol\n",
      "The Toyota has the seating capacity of 5 seats.\n"
     ]
    }
   ],
   "source": [
    "'''Multiple inheritance is when a class can inherit from more than one parent class \n",
    "and can also access the methods and attributes from the parent class.'''\n",
    "\n",
    "class vehicle:\n",
    "    def __init__ (self,name_of_vehicle_, max_speed, average_of_vehicle):\n",
    "        self.name_of_vehicle_= name_of_vehicle_\n",
    "        self.max_speed=max_speed\n",
    "        self.average_of_vehicle=average_of_vehicle\n",
    "    def vehicle_info(self):\n",
    "        print('name : ',self.name_of_vehicle_,', max speed : ',self.max_speed,', avg speed : ',self.average_of_vehicle)\n",
    "        \n",
    "class features:\n",
    "    def __init__(self,airbags,fuel):\n",
    "        self.airbags=airbags\n",
    "        self.fuel=fuel\n",
    "    def features_info(self):\n",
    "        print('airbags : ', self.airbags,', fuel : ', self.fuel)\n",
    "\n",
    "class car(vehicle,features):\n",
    "    def __init__(self,name_of_vehicle_,max_speed,average_of_vehicle,airbags, fuel, number_of_seats):\n",
    "        super().__init__(name_of_vehicle_,max_speed,average_of_vehicle)\n",
    "        features.__init__(self,airbags,fuel)\n",
    "        self.number_of_seats=number_of_seats\n",
    "    def seating_capacity(self):\n",
    "        print('The',self.name_of_vehicle_, 'has the seating capacity of', self.number_of_seats,'seats.')\n",
    "\n",
    "\n",
    "'''the car class is inheriting from 2 parent class vehicle and features \n",
    "and is able to access the attributes and features from both parent class.'''\n",
    "\n",
    "c=car('Toyota',200,156,'front','petrol',5)\n",
    "print(c.name_of_vehicle_)\n",
    "print(c.fuel)\n",
    "c.vehicle_info()\n",
    "c.features_info()\n",
    "c.seating_capacity()"
   ]
  },
  {
   "cell_type": "markdown",
   "id": "61d58f0c",
   "metadata": {},
   "source": [
    "Q4. What are getter and setter in python? Create a class and create a getter and a setter method in this\n",
    "class."
   ]
  },
  {
   "cell_type": "code",
   "execution_count": 24,
   "id": "8333d086",
   "metadata": {},
   "outputs": [
    {
     "data": {
      "text/plain": [
       "3789020"
      ]
     },
     "execution_count": 24,
     "metadata": {},
     "output_type": "execute_result"
    }
   ],
   "source": [
    "'''Getters and setters are used in python to give access to external user to get and set the value of \n",
    "private or protected members of a class respectively.'''\n",
    "\n",
    "class salary():\n",
    "    def __init__(self,annual_salary):\n",
    "        self._annual_salary=annual_salary\n",
    "   \n",
    "    @property\n",
    "    #getter method to access protected variable\n",
    "    def show_salary(self):\n",
    "        return self._annual_salary\n",
    "    @show_salary.setter\n",
    "     #setter method to set value for the protected variable based on a condition\n",
    "    def set_salary(self,new_salary):\n",
    "        if new_salary>=3000000:\n",
    "            self._annual_salary=new_salary\n",
    "        else:\n",
    "            pass\n",
    "        \n",
    "s=salary(2000000)\n",
    "s.show_salary\n",
    "s.set_salary=3789020\n",
    "s.show_salary"
   ]
  },
  {
   "cell_type": "code",
   "execution_count": null,
   "id": "565471b5",
   "metadata": {},
   "outputs": [],
   "source": [
    "Q5.What is method overriding in python? Write a python code to demonstrate method overriding."
   ]
  },
  {
   "cell_type": "code",
   "execution_count": 25,
   "id": "6b8f4f78",
   "metadata": {},
   "outputs": [
    {
     "data": {
      "text/plain": [
       "20000000"
      ]
     },
     "execution_count": 25,
     "metadata": {},
     "output_type": "execute_result"
    }
   ],
   "source": [
    "'''Method overeriding is an ability of the child class to implement its own method \n",
    "instead of using the method that is present in its parent class.\n",
    "For example:'''\n",
    "\n",
    "class vehicle:\n",
    "    def __init__(self,max_price):\n",
    "        self.max_price=max_price\n",
    "    def show_price(self):\n",
    "        return self.max_price\n",
    "    \n",
    "class toyota(vehicle):\n",
    "    def __init__(self,price):\n",
    "        self.price=price\n",
    "    def show_price(self):\n",
    "        return self.price\n",
    "    \n",
    "v=vehicle(70000000)\n",
    "v.show_price()\n",
    "\n",
    "#calling the show_price method, it is overriding the implementation provided in the parent class\n",
    "#and is using implementation provided in the child class showing \"method overriding in python\".\n",
    "t=toyota(20000000)\n",
    "t.show_price()\n",
    "\n"
   ]
  },
  {
   "cell_type": "code",
   "execution_count": null,
   "id": "bc8b064c",
   "metadata": {},
   "outputs": [],
   "source": []
  },
  {
   "cell_type": "code",
   "execution_count": null,
   "id": "8822dd37",
   "metadata": {},
   "outputs": [],
   "source": []
  }
 ],
 "metadata": {
  "kernelspec": {
   "display_name": "Python 3 (ipykernel)",
   "language": "python",
   "name": "python3"
  },
  "language_info": {
   "codemirror_mode": {
    "name": "ipython",
    "version": 3
   },
   "file_extension": ".py",
   "mimetype": "text/x-python",
   "name": "python",
   "nbconvert_exporter": "python",
   "pygments_lexer": "ipython3",
   "version": "3.9.12"
  }
 },
 "nbformat": 4,
 "nbformat_minor": 5
}
