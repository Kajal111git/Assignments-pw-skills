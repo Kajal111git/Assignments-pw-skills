{
 "cells": [
  {
   "cell_type": "markdown",
   "id": "8926f2a4",
   "metadata": {},
   "source": [
    "Q1. Create a function which will take a list as an argument and return the product of all the numbers\n",
    "after creating a flat list.\n",
    "Use the below-given list as an argument for your function.\n",
    "list1 = [1,2,3,4, [44,55,66, True], False, (34,56,78,89,34), {1,2,3,3,2,1}, {1:34, \"key2\": [55, 67, 78, 89], 4: (45,\n",
    "22, 61, 34)}, [56, 'data science'], 'Machine Learning']\n",
    "Note: you must extract numeric keys and values of the dictionary also."
   ]
  },
  {
   "cell_type": "code",
   "execution_count": 1,
   "id": "ea22df43",
   "metadata": {},
   "outputs": [
    {
     "name": "stdout",
     "output_type": "stream",
     "text": [
      "flat list: [1, 2, 3, 4, 44, 55, 66, 34, 56, 78, 89, 34, 1, 2, 3, 1, 34, 55, 67, 78, 89, 4, 45, 22, 61, 34, 56]\n",
      "product of the items of flat list is 4134711838987085478833841242112000\n"
     ]
    }
   ],
   "source": [
    "list1 = [1,2,3,4, [44,55,66, True], False, (34,56,78,89,34), {1,2,3,3,2,1}, {1:34, \"key2\": [55, 67, 78, 89], 4: (45,\n",
    "22, 61, 34)}, [56, 'data science'], 'Machine Learning']\n",
    "\n",
    "def fun(a):\n",
    "    new_list=[]\n",
    "    for i in a:\n",
    "        if type(i)==int:\n",
    "            new_list.append(i)\n",
    "        else:\n",
    "            if type(i)==list or type(i)==tuple or type(i)==set :\n",
    "                i=list(i)\n",
    "                for j in i:\n",
    "                    if type(j)==int:\n",
    "                        new_list.append(j)\n",
    "            else:\n",
    "                if type(i)==dict:\n",
    "                    d=list(i.items())\n",
    "                   \n",
    "                    for k in d:\n",
    "                        k=list(k)\n",
    "                        for l in k:\n",
    "                            if type(l)==int:\n",
    "                                new_list.append(l)\n",
    "                            else:\n",
    "                                if type(l)==list or type(l)==tuple:\n",
    "                                    l=list(l)\n",
    "                                    for m in l:\n",
    "                                        if type(m)== int:\n",
    "                                            new_list.append(m)\n",
    "\n",
    "    print('flat list:', new_list)\n",
    "    \n",
    "    from functools import reduce\n",
    "    a=reduce(lambda x,y:x*y,new_list)\n",
    "    print('product of the items of flat list is', a)\n",
    "\n",
    "fun(list1)"
   ]
  },
  {
   "cell_type": "markdown",
   "id": "9ec61404",
   "metadata": {},
   "source": [
    "Q2. Write a python program for encrypting a message sent to you by your friend. The logic of encryption\n",
    "should be such that, for a the output should be z. For b, the output should be y. For c, the output should\n",
    "be x respectively. Also, the whitespace should be replaced with a dollar sign. Keep the punctuation\n",
    "marks unchanged.\n",
    "Input Sentence: I want to become a Data Scientist.\n",
    "Encrypt the above input sentence using the program you just created.\n",
    "Note: Convert the given input sentence into lowercase before encrypting. The final output should be\n",
    "lowercase."
   ]
  },
  {
   "cell_type": "code",
   "execution_count": 3,
   "id": "1345c407",
   "metadata": {},
   "outputs": [
    {
     "name": "stdout",
     "output_type": "stream",
     "text": [
      "the originial messsage is i want to become a data scientist.\n",
      "the encrypted message is r$dzmg$gl$yvxlnv$z$wzgz$hxrvmgrhg.\n"
     ]
    }
   ],
   "source": [
    "my_mssg='I want to become a Data Scientist.'\n",
    "\n",
    "import string\n",
    "def encrypt(a):\n",
    "    original_text=list(' '+ string.ascii_lowercase+string.punctuation)\n",
    "    #print(original_text)\n",
    "\n",
    "    lower=list(string.ascii_lowercase)\n",
    "    lower.reverse()\n",
    "\n",
    "    masked_text=list('$')+lower+list(string.punctuation)\n",
    "    #print(masked_text)\n",
    "\n",
    "    mssg=a.lower()\n",
    "    #print(mssg)\n",
    "    encrypted_mssg=''\n",
    "    for i in mssg:\n",
    "        index=original_text.index(i)\n",
    "        #print(index)\n",
    "        encrypted_mssg+=masked_text[index]\n",
    "    print('the originial messsage is', mssg)\n",
    "    print( 'the encrypted message is', encrypted_mssg)\n",
    "\n",
    "#calling the function to encrypt\n",
    "encrypt(my_mssg)"
   ]
  },
  {
   "cell_type": "code",
   "execution_count": null,
   "id": "222326fd",
   "metadata": {},
   "outputs": [],
   "source": []
  }
 ],
 "metadata": {
  "kernelspec": {
   "display_name": "Python 3 (ipykernel)",
   "language": "python",
   "name": "python3"
  },
  "language_info": {
   "codemirror_mode": {
    "name": "ipython",
    "version": 3
   },
   "file_extension": ".py",
   "mimetype": "text/x-python",
   "name": "python",
   "nbconvert_exporter": "python",
   "pygments_lexer": "ipython3",
   "version": "3.9.12"
  }
 },
 "nbformat": 4,
 "nbformat_minor": 5
}
