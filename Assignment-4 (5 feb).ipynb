{
 "cells": [
  {
   "cell_type": "markdown",
   "id": "26c32dd2",
   "metadata": {},
   "source": [
    "Q1. Explain Class and Object with respect to Object-Oriented Programming. Give a suitable example."
   ]
  },
  {
   "cell_type": "code",
   "execution_count": 18,
   "id": "3ae143c3",
   "metadata": {},
   "outputs": [
    {
     "name": "stdout",
     "output_type": "stream",
     "text": [
      "I bark I and am a pet animal.\n",
      "I roar I and am a wild animal.\n"
     ]
    }
   ],
   "source": [
    "'''Class is an entity that contains attributes and methods. It is like a blueprint from which objects can be made.\n",
    "While objects are real world entities which can access class' attributes and methods. Multiple objects can be created from a class.'''\n",
    "\n",
    "class animal:\n",
    "    def __init__(self, sound,category):\n",
    "        self.sound=sound\n",
    "        self.category=category\n",
    "    def animal_details(self):\n",
    "        print('I', self.sound, 'I and am a', self.category, 'animal.')\n",
    "    \n",
    "#creating objects of class animal\n",
    "dog=animal('bark','pet')\n",
    "lion=animal('roar','wild')\n",
    "\n",
    "#calling method of the class animal through objects\n",
    "dog.animal_details()\n",
    "lion.animal_details()"
   ]
  },
  {
   "cell_type": "code",
   "execution_count": null,
   "id": "8166e8ca",
   "metadata": {},
   "outputs": [],
   "source": [
    "Q2. Name the four pillars of OOPs."
   ]
  },
  {
   "cell_type": "code",
   "execution_count": null,
   "id": "cf6aefc1",
   "metadata": {},
   "outputs": [],
   "source": [
    "'''The four pillars of OOPS are \n",
    "Inheritence,\n",
    "Polymorphism,\n",
    "Encapsulation and \n",
    "Abstraction'''"
   ]
  },
  {
   "cell_type": "code",
   "execution_count": null,
   "id": "73d95d8a",
   "metadata": {},
   "outputs": [],
   "source": [
    "Q3. Explain why the __init__() function is used. Give a suitable example."
   ]
  },
  {
   "cell_type": "code",
   "execution_count": 20,
   "id": "f6cd4ef2",
   "metadata": {},
   "outputs": [
    {
     "name": "stdout",
     "output_type": "stream",
     "text": [
      "pet\n",
      "roar\n"
     ]
    }
   ],
   "source": [
    "'''__init is a constructor and is used to initialize the objects' attributes while creating an object from a class.'''\n",
    "class animal:\n",
    "    def __init__(self, sound,category):\n",
    "        self.sound=sound\n",
    "        self.category=category\n",
    "    def animal_details(self):\n",
    "        print('I', self.sound, 'I and am a', self.category, 'animal.')\n",
    "    \n",
    "#creating objects of class animal\n",
    "dog=animal('bark','pet')\n",
    "lion=animal('roar','wild')\n",
    "\n",
    "#accessing attributes of the class animal through objects\n",
    "print(dog.category)\n",
    "print(lion.sound)"
   ]
  },
  {
   "cell_type": "code",
   "execution_count": null,
   "id": "70a23b49",
   "metadata": {},
   "outputs": [],
   "source": [
    "Q4. Why self is used in OOPs?"
   ]
  },
  {
   "cell_type": "code",
   "execution_count": null,
   "id": "d6673453",
   "metadata": {},
   "outputs": [],
   "source": [
    "'''self is used to bind the given arguments while creating an object to the class.\n",
    "Self allows us to access the class' attributes and methods.'''"
   ]
  },
  {
   "cell_type": "code",
   "execution_count": null,
   "id": "7d59c685",
   "metadata": {},
   "outputs": [],
   "source": [
    "Q5. What is inheritance? Give an example for each type of inheritance."
   ]
  },
  {
   "cell_type": "code",
   "execution_count": 27,
   "id": "794fc30b",
   "metadata": {},
   "outputs": [
    {
     "name": "stdout",
     "output_type": "stream",
     "text": [
      "this is fun1 of class a\n",
      "this is fun1 of class a\n",
      "this is fun2 of class b\n"
     ]
    }
   ],
   "source": [
    "'''Inheritance allows a class to inherit all the attributes and methods of another class.\n",
    "The class from which the attributes and methods are inherited are called base class and the class that inherits is known as child class.\n",
    "There are different type of inheritance present in Python.\n",
    "1. Single inheritance\n",
    "2. Multiple inheritance\n",
    "3. Multilevel inheritance\n",
    "4. Hierarchical inheritance\n",
    "5. Hybrid inheritance.'''\n",
    "\n",
    "#Single inheritance\n",
    "class a:\n",
    "    def fun1(self):\n",
    "        print('this is fun1 of class a')\n",
    "class b(a):\n",
    "    def fun2(self):\n",
    "        print('this is fun2 of class b')\n",
    "\n",
    "#creating object of class b\n",
    "\n",
    "ob1=a()\n",
    "ob1.fun1()\n",
    "\n",
    "#ob2 can access method of base class a.\n",
    "ob2=b()\n",
    "ob2.fun1()\n",
    "ob2.fun2()"
   ]
  },
  {
   "cell_type": "code",
   "execution_count": 28,
   "id": "7a885305",
   "metadata": {},
   "outputs": [
    {
     "name": "stdout",
     "output_type": "stream",
     "text": [
      "this is fun1 of class a\n",
      "this is fun2 of class b\n",
      "this is fun3 of class c\n"
     ]
    }
   ],
   "source": [
    "#Multiple inheritance\n",
    "class a:\n",
    "    def fun1(self):\n",
    "        print('this is fun1 of class a')\n",
    "class b():\n",
    "    def fun2(self):\n",
    "        print('this is fun2 of class b')\n",
    "class c(a,b):\n",
    "    def fun3(self):\n",
    "        print('this is fun3 of class c')\n",
    "\n",
    "#creating object of class c\n",
    "ob1=c()\n",
    "#ob1 can access method of both base class a and b.\n",
    "ob1.fun1()\n",
    "ob1.fun2()\n",
    "ob1.fun3()"
   ]
  },
  {
   "cell_type": "code",
   "execution_count": 30,
   "id": "72ba5a87",
   "metadata": {},
   "outputs": [
    {
     "name": "stdout",
     "output_type": "stream",
     "text": [
      "this is fun1 of class a\n",
      "this is fun1 of class a\n",
      "this is fun2 of class b\n"
     ]
    }
   ],
   "source": [
    "#Multilevel inheritance\n",
    "class a:\n",
    "    def fun1(self):\n",
    "        print('this is fun1 of class a')\n",
    "class b(a):\n",
    "    def fun2(self):\n",
    "        print('this is fun2 of class b')\n",
    "class c(b):\n",
    "    def fun3(self):\n",
    "        print('this is fun3 of class c')\n",
    "        \n",
    "#creating object of class b and c\n",
    "ob1=b()\n",
    "ob1.fun1()\n",
    "\n",
    "ob2=c()\n",
    "ob2.fun1()\n",
    "ob2.fun2()"
   ]
  },
  {
   "cell_type": "code",
   "execution_count": 32,
   "id": "3d0d0944",
   "metadata": {},
   "outputs": [
    {
     "name": "stdout",
     "output_type": "stream",
     "text": [
      "this is fun1 of class a\n",
      "this is fun1 of class a\n"
     ]
    }
   ],
   "source": [
    "#Hierarchical inheritance\n",
    "class a:\n",
    "    def fun1(self):\n",
    "        print('this is fun1 of class a')\n",
    "class b(a):\n",
    "    def fun2(self):\n",
    "        print('this is fun2 of class b')\n",
    "class c(a):\n",
    "    def fun3(self):\n",
    "        print('this is fun3 of class c')\n",
    "    \n",
    "#creating object of class b and c\n",
    "ob1=b()\n",
    "ob1.fun1()\n",
    "ob2=c()\n",
    "ob2.fun1()"
   ]
  },
  {
   "cell_type": "code",
   "execution_count": 35,
   "id": "a90fa4e5",
   "metadata": {},
   "outputs": [
    {
     "name": "stdout",
     "output_type": "stream",
     "text": [
      "this is fun1 of class a\n",
      "this is fun1 of class a\n",
      "this is fun2 of class b\n"
     ]
    }
   ],
   "source": [
    "#Hybrid inheritance\n",
    "class a:\n",
    "    def fun1(self):\n",
    "        print('this is fun1 of class a')\n",
    "class b(a):\n",
    "    def fun2(self):\n",
    "        print('this is fun2 of class b')\n",
    "class c(a):\n",
    "    def fun3(self):\n",
    "        print('this is fun3 of class c')\n",
    "class d(b,c):\n",
    "    def fun4(self):\n",
    "        print('this is fun4 of class d')\n",
    "\n",
    "#creating objects\n",
    "ob1=c()\n",
    "ob1.fun1()\n",
    "\n",
    "ob2=d()\n",
    "ob2.fun1()\n",
    "ob2.fun2()"
   ]
  },
  {
   "cell_type": "code",
   "execution_count": null,
   "id": "24c63822",
   "metadata": {},
   "outputs": [],
   "source": []
  }
 ],
 "metadata": {
  "kernelspec": {
   "display_name": "Python 3 (ipykernel)",
   "language": "python",
   "name": "python3"
  },
  "language_info": {
   "codemirror_mode": {
    "name": "ipython",
    "version": 3
   },
   "file_extension": ".py",
   "mimetype": "text/x-python",
   "name": "python",
   "nbconvert_exporter": "python",
   "pygments_lexer": "ipython3",
   "version": "3.9.12"
  }
 },
 "nbformat": 4,
 "nbformat_minor": 5
}
