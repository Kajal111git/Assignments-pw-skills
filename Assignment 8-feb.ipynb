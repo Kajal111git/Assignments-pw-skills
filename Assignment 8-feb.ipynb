{
 "cells": [
  {
   "cell_type": "markdown",
   "id": "99837450",
   "metadata": {},
   "source": [
    "Q1. What is Abstraction in OOps? Explain with an example."
   ]
  },
  {
   "cell_type": "code",
   "execution_count": 85,
   "id": "790c4bf7",
   "metadata": {},
   "outputs": [
    {
     "name": "stdout",
     "output_type": "stream",
     "text": [
      "I love meat but can also have plant based food\n",
      "I bark\n",
      "I roar\n"
     ]
    },
    {
     "data": {
      "text/plain": [
       "'Here animal is the abstract class which is acting as a blueprint for its subclasses dog and tiger\\nThe class dog and tiger are defining the abstract methods of the abstract class on their own.'"
      ]
     },
     "execution_count": 85,
     "metadata": {},
     "output_type": "execute_result"
    }
   ],
   "source": [
    "'''Abstraction a one of the main concepts of OOPs which helps hide the irrelevent data from the user in order to reduce complexity.\n",
    "To achieve abstaction we use abstact methods or classes. An abstract method is a method that is declared but does not contain\n",
    "the implementaion. A class with on more abstract methods is an abstarct class.\n",
    "The abstract class acts as a blueprint for the sub-class that inherits them. The abstract method gets its definition in the \n",
    "subclass.\n",
    "There is a module named abc to get abstraction.'''\n",
    "\n",
    "import abc\n",
    "class animal:\n",
    "    @abc.abstractmethod\n",
    "    def sound(self):\n",
    "        pass\n",
    "    @abc.abstractmethod\n",
    "    def food(self):\n",
    "        pass\n",
    "\n",
    "class dog(animal):\n",
    "    def sound(self):\n",
    "        return 'I bark'\n",
    "    def food (self):\n",
    "        return 'I love meat but can also have plant based food'\n",
    "    \n",
    "class tiger(animal):\n",
    "    def sound(self):\n",
    "        return 'I roar'\n",
    "\n",
    "od=dog()\n",
    "ot=tiger()\n",
    "\n",
    "a=od.food()\n",
    "b=od.sound()\n",
    "c=ot.sound()\n",
    "\n",
    "print(a)\n",
    "print(b)\n",
    "print(c)\n",
    "\n",
    "'''Here animal is the abstract class which is acting as a blueprint for its subclasses dog and tiger\n",
    "The class dog and tiger are defining the abstract methods of the abstract class on their own.'''"
   ]
  },
  {
   "cell_type": "markdown",
   "id": "3336aea4",
   "metadata": {},
   "source": [
    "Q2. Differentiate between Abstraction and Encapsulation. Explain with an example."
   ]
  },
  {
   "cell_type": "code",
   "execution_count": 55,
   "id": "78bbf8ea",
   "metadata": {},
   "outputs": [
    {
     "name": "stdout",
     "output_type": "stream",
     "text": [
      "cat\n"
     ]
    },
    {
     "data": {
      "text/plain": [
       "'cat'"
      ]
     },
     "execution_count": 55,
     "metadata": {},
     "output_type": "execute_result"
    }
   ],
   "source": [
    "'''Abstraction hides the irrelevent data in order to reduce complexity an d increase efficiency.\n",
    "While on the other hand encapsulation binds the data that work together at one place and put restriction on directly modifying and\n",
    "accessing the data. Encapsulation prevents the access and accidental modifiacation to the object's variable from other classes.\n",
    "The object's variable can only be accessed and modified by the object's method of their current class.'''\n",
    "\n",
    "class animal:\n",
    "    def __init__(self):\n",
    "        self.__name='cat'\n",
    "        print(self.__name)\n",
    "\n",
    "#Accessing the variable from inside the class\n",
    "ob=animal()\n",
    "\n",
    "#Accessing the variable from outside the class.Here __name is a private variable of class animal \n",
    "#hence we can't access it directly from outside.\n",
    "#We can access it with the help of class like shown below.\n",
    "ob._animal__name"
   ]
  },
  {
   "cell_type": "code",
   "execution_count": 56,
   "id": "837f0197",
   "metadata": {},
   "outputs": [
    {
     "data": {
      "text/plain": [
       "'elephant'"
      ]
     },
     "execution_count": 56,
     "metadata": {},
     "output_type": "execute_result"
    }
   ],
   "source": [
    "#we can also modify the variable\n",
    "ob._animal__name='elephant'\n",
    "\n",
    "ob._animal__name"
   ]
  },
  {
   "cell_type": "markdown",
   "id": "907bf482",
   "metadata": {},
   "source": [
    "Q3. What is abc module in python? Why is it used?"
   ]
  },
  {
   "cell_type": "code",
   "execution_count": null,
   "id": "27299094",
   "metadata": {},
   "outputs": [],
   "source": [
    "An abc module provides an infrastructure to define abstract classes. \n",
    "It provides ABC module and 'abstractmethod' decorator to achieve abstraction."
   ]
  },
  {
   "cell_type": "markdown",
   "id": "d7fcc8d0",
   "metadata": {},
   "source": [
    "Q4. How can we achieve data abstraction?"
   ]
  },
  {
   "cell_type": "code",
   "execution_count": null,
   "id": "7cec64e0",
   "metadata": {},
   "outputs": [],
   "source": [
    "With the help of Abstract Base Classes (ABC) and 'abstractmethod' decorator, we can achieve abstraction in python."
   ]
  },
  {
   "cell_type": "markdown",
   "id": "c51e7fd4",
   "metadata": {},
   "source": [
    "Q5. Can we create an instance of an abstract class? Explain your answer."
   ]
  },
  {
   "cell_type": "code",
   "execution_count": null,
   "id": "17d0598f",
   "metadata": {},
   "outputs": [],
   "source": [
    "We can not make an instance of an abstract class as an abstract class does not contain the implementation of the methods. \n",
    "A subclass of an abstract class is only able to create an instance of an abstract class as the methods are defined in the subclass."
   ]
  }
 ],
 "metadata": {
  "kernelspec": {
   "display_name": "Python 3 (ipykernel)",
   "language": "python",
   "name": "python3"
  },
  "language_info": {
   "codemirror_mode": {
    "name": "ipython",
    "version": 3
   },
   "file_extension": ".py",
   "mimetype": "text/x-python",
   "name": "python",
   "nbconvert_exporter": "python",
   "pygments_lexer": "ipython3",
   "version": "3.9.12"
  }
 },
 "nbformat": 4,
 "nbformat_minor": 5
}
