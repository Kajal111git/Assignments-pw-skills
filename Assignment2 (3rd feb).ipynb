{
 "cells": [
  {
   "cell_type": "markdown",
   "id": "2d34b280",
   "metadata": {},
   "source": [
    "Q1. Which keyword is used to create a function? Create a function to return a list of odd numbers in the\n",
    "range of 1 to 25."
   ]
  },
  {
   "cell_type": "code",
   "execution_count": 1,
   "id": "6df0839f",
   "metadata": {},
   "outputs": [],
   "source": [
    "'''def keyword is used to create a function'''\n",
    "l=[]\n",
    "def funodd():\n",
    "    for i in range(1,25):\n",
    "        if i%2!=0:\n",
    "            l.append(i)\n",
    "    print(l)"
   ]
  },
  {
   "cell_type": "code",
   "execution_count": 2,
   "id": "2bdbe41a",
   "metadata": {},
   "outputs": [
    {
     "name": "stdout",
     "output_type": "stream",
     "text": [
      "[1, 3, 5, 7, 9, 11, 13, 15, 17, 19, 21, 23]\n"
     ]
    }
   ],
   "source": [
    "funodd()"
   ]
  },
  {
   "cell_type": "markdown",
   "id": "fdf2593a",
   "metadata": {},
   "source": [
    "Q2. Why *args and **kwargs is used in some functions? Create a function each for *args and **kwargs\n",
    "to demonstrate their use."
   ]
  },
  {
   "cell_type": "code",
   "execution_count": 3,
   "id": "ba543558",
   "metadata": {},
   "outputs": [],
   "source": [
    "'''*args is used for any number of arguments to be passed in a function while \n",
    "**kwargs is used for any number of arguments to be passed in a function as key value pairs'''\n",
    "\n",
    "# *args should be integers here\n",
    "def fun1(*args):\n",
    "    s=sum(args)\n",
    "    return s\n",
    "\n",
    "def fun2(**kwargs):\n",
    "    return kwargs"
   ]
  },
  {
   "cell_type": "code",
   "execution_count": 4,
   "id": "e78b22d7",
   "metadata": {},
   "outputs": [
    {
     "data": {
      "text/plain": [
       "67"
      ]
     },
     "execution_count": 4,
     "metadata": {},
     "output_type": "execute_result"
    }
   ],
   "source": [
    "fun1(3,54,6,4)"
   ]
  },
  {
   "cell_type": "code",
   "execution_count": 5,
   "id": "3b5019e0",
   "metadata": {},
   "outputs": [
    {
     "data": {
      "text/plain": [
       "6"
      ]
     },
     "execution_count": 5,
     "metadata": {},
     "output_type": "execute_result"
    }
   ],
   "source": [
    "fun1(4,2)"
   ]
  },
  {
   "cell_type": "code",
   "execution_count": 6,
   "id": "8c5caaa7",
   "metadata": {},
   "outputs": [
    {
     "data": {
      "text/plain": [
       "{'a': 5, 'b': 6, 'c': 9}"
      ]
     },
     "execution_count": 6,
     "metadata": {},
     "output_type": "execute_result"
    }
   ],
   "source": [
    "fun2(a=5,b=6,c=9)"
   ]
  },
  {
   "cell_type": "code",
   "execution_count": 7,
   "id": "b1a5d4c2",
   "metadata": {},
   "outputs": [
    {
     "data": {
      "text/plain": [
       "{'e': 'hello', 'f': 'world'}"
      ]
     },
     "execution_count": 7,
     "metadata": {},
     "output_type": "execute_result"
    }
   ],
   "source": [
    "fun2(e='hello',f='world')"
   ]
  },
  {
   "cell_type": "markdown",
   "id": "53fed1ca",
   "metadata": {},
   "source": [
    "Q3. What is an iterator in python? Name the method used to initialise the iterator object and the method\n",
    "used for iteration. Use these methods to print the first five elements of the given list [2, 4, 6, 8, 10, 12, 14,\n",
    "16, 18, 20]."
   ]
  },
  {
   "cell_type": "code",
   "execution_count": 8,
   "id": "46ae065c",
   "metadata": {},
   "outputs": [
    {
     "name": "stdout",
     "output_type": "stream",
     "text": [
      "2\n",
      "4\n",
      "6\n",
      "8\n",
      "10\n"
     ]
    }
   ],
   "source": [
    "'''Iterator: Iterator is an object which allows iterating over itself. The method iter() is used to intialise the iterator object.\n",
    "The method used for iteration is next().'''\n",
    "\n",
    "l= [2, 4, 6, 8, 10, 12, 14, 16, 18, 20]\n",
    "l1=iter(l)\n",
    "count=1\n",
    "while count<=5:\n",
    "    print(next(l1))\n",
    "    count+=1"
   ]
  },
  {
   "cell_type": "markdown",
   "id": "2a90aebe",
   "metadata": {},
   "source": [
    "Q4. What is a generator function in python? Why yield keyword is used? Give an example of a generator\n",
    "function."
   ]
  },
  {
   "cell_type": "code",
   "execution_count": 9,
   "id": "6b74201f",
   "metadata": {},
   "outputs": [
    {
     "name": "stdout",
     "output_type": "stream",
     "text": [
      "[0, 1, 2, 3, 4, 5]\n",
      "[0, 1, 2]\n"
     ]
    }
   ],
   "source": [
    "'''Generator function: A generator function is a function that produces a sequence of values and give output one by one instead of storing everything in the memory at once.\n",
    "Yield keyword: Yield keyword is used to return values in a generator function. Yield keyword behaves the same way as return does in a function.'''\n",
    "\n",
    "#A generator function to generate a list of sequence.\n",
    "n=1\n",
    "def fung(n):\n",
    "    l=list(range(n))\n",
    "    yield l\n",
    "    n=n+1\n",
    "    \n",
    "#creating generator object of the generator function.\n",
    "ob1=fung(6)\n",
    "ob2=fung(3)\n",
    "\n",
    "# printing values\n",
    "for i in ob1:\n",
    "    print(i)\n",
    "for i in ob2:\n",
    "    print(i)"
   ]
  },
  {
   "cell_type": "markdown",
   "id": "991b8c3c",
   "metadata": {},
   "source": [
    "Q5. Create a generator function for prime numbers less than 1000. Use the next() method to print the\n",
    "first 20 prime numbers."
   ]
  },
  {
   "cell_type": "code",
   "execution_count": 13,
   "id": "926eff4d",
   "metadata": {},
   "outputs": [
    {
     "name": "stdout",
     "output_type": "stream",
     "text": [
      "how many values you want to be printed?20\n",
      "2\n",
      "3\n",
      "5\n",
      "7\n",
      "11\n",
      "13\n",
      "17\n",
      "19\n",
      "23\n",
      "29\n",
      "31\n",
      "37\n",
      "41\n",
      "43\n",
      "47\n",
      "53\n",
      "59\n",
      "61\n",
      "67\n",
      "71\n"
     ]
    }
   ],
   "source": [
    "# creating a generator function\n",
    "def primegen():\n",
    "    for i in range(2,1000):\n",
    "        count=0\n",
    "        for j in range(2,i):\n",
    "            if i%j==0:\n",
    "                count+=1\n",
    "                break\n",
    "        if count==0:\n",
    "            yield(i)\n",
    "            \n",
    "#generator object of the generator function\n",
    "obj=primegen()\n",
    "\n",
    "#printing first n prime numbers less than 1000\n",
    "n=int(input('how many values you want to be printed?'))\n",
    "for i in range(n):\n",
    "    print(next(obj))"
   ]
  },
  {
   "cell_type": "markdown",
   "id": "cefe5fff",
   "metadata": {},
   "source": [
    "Q6. Write a python program to print the first 10 Fibonacci numbers using a while loop."
   ]
  },
  {
   "cell_type": "code",
   "execution_count": 15,
   "id": "a2c1b405",
   "metadata": {},
   "outputs": [
    {
     "name": "stdout",
     "output_type": "stream",
     "text": [
      "0 1 1 2 3 5 8 13 21 34 "
     ]
    }
   ],
   "source": [
    "#fiboniacci series using while loop\n",
    "a=0\n",
    "b=1\n",
    "count=1\n",
    "while count<=10:\n",
    "    print(a,end=' ')\n",
    "    a,b=b,a+b\n",
    "    count+=1"
   ]
  },
  {
   "cell_type": "markdown",
   "id": "f08636f9",
   "metadata": {},
   "source": [
    "Q7. Write a List Comprehension to iterate through the given string: ‘pwskills’.\n",
    "Expected output: ['p', 'w', 's', 'k', 'i', 'l', 'l', 's']"
   ]
  },
  {
   "cell_type": "code",
   "execution_count": 16,
   "id": "11c2ba1c",
   "metadata": {},
   "outputs": [
    {
     "data": {
      "text/plain": [
       "['p', 'w', 's', 'k', 'i', 'l', 'l', 's']"
      ]
     },
     "execution_count": 16,
     "metadata": {},
     "output_type": "execute_result"
    }
   ],
   "source": [
    "string='pwskills'\n",
    "[i for i in string]"
   ]
  },
  {
   "cell_type": "markdown",
   "id": "430759a3",
   "metadata": {},
   "source": [
    "Q8. Write a python program to check whether a given number is Palindrome or not using a while loop."
   ]
  },
  {
   "cell_type": "code",
   "execution_count": 17,
   "id": "c5e70ccb",
   "metadata": {},
   "outputs": [
    {
     "name": "stdout",
     "output_type": "stream",
     "text": [
      "enter a number 434\n",
      "the number is a palindrome\n"
     ]
    }
   ],
   "source": [
    "n=int(input('enter a number '))\n",
    "n1=n\n",
    "reverse=0\n",
    "while n1>0:\n",
    "    remainder=n1%10\n",
    "    n1=n1//10\n",
    "    reverse= reverse*10 +remainder\n",
    "\n",
    "if n==reverse:\n",
    "    print('the number is a palindrome')\n",
    "else:\n",
    "    print('the number is not a palindome')"
   ]
  },
  {
   "cell_type": "markdown",
   "id": "01a9e978",
   "metadata": {},
   "source": [
    "Q9. Write a code to print odd numbers from 1 to 100 using list comprehension."
   ]
  },
  {
   "cell_type": "code",
   "execution_count": 23,
   "id": "9178c1e8",
   "metadata": {},
   "outputs": [
    {
     "data": {
      "text/plain": [
       "[1,\n",
       " 3,\n",
       " 5,\n",
       " 7,\n",
       " 9,\n",
       " 11,\n",
       " 13,\n",
       " 15,\n",
       " 17,\n",
       " 19,\n",
       " 21,\n",
       " 23,\n",
       " 25,\n",
       " 27,\n",
       " 29,\n",
       " 31,\n",
       " 33,\n",
       " 35,\n",
       " 37,\n",
       " 39,\n",
       " 41,\n",
       " 43,\n",
       " 45,\n",
       " 47,\n",
       " 49,\n",
       " 51,\n",
       " 53,\n",
       " 55,\n",
       " 57,\n",
       " 59,\n",
       " 61,\n",
       " 63,\n",
       " 65,\n",
       " 67,\n",
       " 69,\n",
       " 71,\n",
       " 73,\n",
       " 75,\n",
       " 77,\n",
       " 79,\n",
       " 81,\n",
       " 83,\n",
       " 85,\n",
       " 87,\n",
       " 89,\n",
       " 91,\n",
       " 93,\n",
       " 95,\n",
       " 97,\n",
       " 99]"
      ]
     },
     "execution_count": 23,
     "metadata": {},
     "output_type": "execute_result"
    }
   ],
   "source": [
    "l1=[i for i in range(1,101)]\n",
    "l2_odd=[i for i in l1 if i%2!=0]\n",
    "l2_odd"
   ]
  },
  {
   "cell_type": "code",
   "execution_count": null,
   "id": "8c59c1c8",
   "metadata": {},
   "outputs": [],
   "source": []
  }
 ],
 "metadata": {
  "kernelspec": {
   "display_name": "Python 3 (ipykernel)",
   "language": "python",
   "name": "python3"
  },
  "language_info": {
   "codemirror_mode": {
    "name": "ipython",
    "version": 3
   },
   "file_extension": ".py",
   "mimetype": "text/x-python",
   "name": "python",
   "nbconvert_exporter": "python",
   "pygments_lexer": "ipython3",
   "version": "3.9.12"
  }
 },
 "nbformat": 4,
 "nbformat_minor": 5
}
